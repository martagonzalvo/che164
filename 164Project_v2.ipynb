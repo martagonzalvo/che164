{
 "cells": [
  {
   "cell_type": "markdown",
   "metadata": {},
   "source": [
    "# Ch/ChE 164 Project\n",
    "## Marta Gonzalvo\n",
    "## March 18$^{\\mathrm{th}}$, 2020"
   ]
  },
  {
   "cell_type": "markdown",
   "metadata": {},
   "source": [
    "In this python notebook I have included both the required analysis and results, as well as the necessary code. The whole notebook takes less than 10 mins to run."
   ]
  },
  {
   "cell_type": "code",
   "execution_count": 1,
   "metadata": {},
   "outputs": [],
   "source": [
    "import time\n",
    "start = time.time()\n",
    "import numpy as np\n",
    "import pandas as pd\n",
    "import scipy.optimize\n",
    "import matplotlib.pyplot as plt\n",
    "import ast"
   ]
  },
  {
   "cell_type": "markdown",
   "metadata": {},
   "source": [
    "## Part 0: Energy\n",
    "\n",
    "#### a) Occupation of cells contribution:\n",
    "\\begin{align}\n",
    "    4\\,\\epsilon \\sum_{i=1}^{L}s_i\n",
    "\\end{align}\n",
    "Each water cell is surrounded by 4 nanotube cells.  If $s_i = 1$, the contribution per nanotube cell will be $\\epsilon$, and if $s_i = -1$, the contribution per nanotube cell will be $-\\epsilon$. So the penalty per cell of water occupation is of $2\\,\\epsilon$ per nanotube cell.\n",
    "#### b) Pairing of spins contribution:\n",
    "\\begin{align}\n",
    "    - J \\sum_{j=0}^{L}s_j s_{j+1}\n",
    "\\end{align} \n",
    "So for $L$ cells there are $L+1$ interactions, and we use the same method as above to penalyze different adjacent occupations by $2J$. And taking into account the boundary conditions, where the adjacent cells to the $s_1$ and $s_L$ cells will always be filled with water: $s_0 = s_{i+1} = 1$, we can rewrite that as \n",
    "\\begin{align}\n",
    "    - J \\sum_{j=1}^{L-1}s_j s_{j+1} - J s_1 - J s_L\n",
    "\\end{align}\n",
    "So the Hamiltonian has the form of \n",
    "\\begin{align}\n",
    "   H\\,\\{s\\} = 4\\,\\epsilon \\sum_{i=1}^{L}s_i - J \\sum_{j=1}^{L-1}s_j s_{j+1} - J s_1 - J s_L \\\\\n",
    "   \\beta \\, H\\,\\{s\\} = 4\\,\\beta \\, \\epsilon \\sum_{i=1}^{L}s_i - \\beta \\, J \\left( \\sum_{j=1}^{L-1}s_j s_{j+1} - s_1 - s_L \\right )\n",
    "\\end{align}"
   ]
  },
  {
   "cell_type": "markdown",
   "metadata": {},
   "source": [
    "Code to calculate the hamiltonian energy:"
   ]
  },
  {
   "cell_type": "code",
   "execution_count": 2,
   "metadata": {},
   "outputs": [],
   "source": [
    "def energy(eps, J, microstates):\n",
    "    '''Computes the Energy for all microstates (np.array) unitless (E/(kB*T).\n",
    "    eps, J are unitless constants (divided by kB*T).'''\n",
    "\n",
    "    coup_wat_nanot = 4*eps*np.sum(microstates, axis=1)\n",
    "\n",
    "    coup_spins = np.sum(microstates[:,:-1]*microstates[:,1:], axis=1)\n",
    "    coup_wat = - J*(coup_spins + microstates[:,0] + microstates[:,-1])\n",
    "    \n",
    "    return coup_wat_nanot + coup_wat"
   ]
  },
  {
   "cell_type": "markdown",
   "metadata": {},
   "source": [
    "Function to generate all possible microstates and list of all microstates:"
   ]
  },
  {
   "cell_type": "code",
   "execution_count": 3,
   "metadata": {},
   "outputs": [],
   "source": [
    "def microstates(L=5, s_vals=[-1,1]):\n",
    "    '''Generates all possible microstates, \n",
    "    given length of system and possible values of s_i'''\n",
    "    \n",
    "    return np.unique(np.random.choice(s_vals, size=(L*200,L)), axis=0)"
   ]
  },
  {
   "cell_type": "code",
   "execution_count": 4,
   "metadata": {
    "scrolled": true
   },
   "outputs": [
    {
     "name": "stdout",
     "output_type": "stream",
     "text": [
      "There are in total 32 microstates. The possible microstates are:\n"
     ]
    },
    {
     "data": {
      "text/plain": [
       "array([[-1, -1, -1, -1, -1],\n",
       "       [-1, -1, -1, -1,  1],\n",
       "       [-1, -1, -1,  1, -1],\n",
       "       [-1, -1, -1,  1,  1],\n",
       "       [-1, -1,  1, -1, -1],\n",
       "       [-1, -1,  1, -1,  1],\n",
       "       [-1, -1,  1,  1, -1],\n",
       "       [-1, -1,  1,  1,  1],\n",
       "       [-1,  1, -1, -1, -1],\n",
       "       [-1,  1, -1, -1,  1],\n",
       "       [-1,  1, -1,  1, -1],\n",
       "       [-1,  1, -1,  1,  1],\n",
       "       [-1,  1,  1, -1, -1],\n",
       "       [-1,  1,  1, -1,  1],\n",
       "       [-1,  1,  1,  1, -1],\n",
       "       [-1,  1,  1,  1,  1],\n",
       "       [ 1, -1, -1, -1, -1],\n",
       "       [ 1, -1, -1, -1,  1],\n",
       "       [ 1, -1, -1,  1, -1],\n",
       "       [ 1, -1, -1,  1,  1],\n",
       "       [ 1, -1,  1, -1, -1],\n",
       "       [ 1, -1,  1, -1,  1],\n",
       "       [ 1, -1,  1,  1, -1],\n",
       "       [ 1, -1,  1,  1,  1],\n",
       "       [ 1,  1, -1, -1, -1],\n",
       "       [ 1,  1, -1, -1,  1],\n",
       "       [ 1,  1, -1,  1, -1],\n",
       "       [ 1,  1, -1,  1,  1],\n",
       "       [ 1,  1,  1, -1, -1],\n",
       "       [ 1,  1,  1, -1,  1],\n",
       "       [ 1,  1,  1,  1, -1],\n",
       "       [ 1,  1,  1,  1,  1]])"
      ]
     },
     "execution_count": 4,
     "metadata": {},
     "output_type": "execute_result"
    }
   ],
   "source": [
    "print('There are in total',len(microstates()), 'microstates. The possible microstates are:')\n",
    "microstates()"
   ]
  },
  {
   "cell_type": "markdown",
   "metadata": {},
   "source": [
    "# Part 1"
   ]
  },
  {
   "cell_type": "markdown",
   "metadata": {},
   "source": [
    "For the case where the totally filled ($N=L$) and totally empty ($N=0$) microstates are degenerate, $H\\,\\{1,1,1,1,1\\} = H\\,\\{-1,-1,-1,-1,-1\\}$.\n",
    "\\begin{align}\n",
    "\\beta \\, H\\,\\{s\\} &= 4\\,\\beta \\, \\epsilon \\sum_{i=1}^{L}s_i - \\beta \\, J \\left( \\sum_{j=1}^{L-1}s_j s_{j+1} - s_1 - s_L \\right ) \\\\  \\\\\n",
    "H\\,\\{1,1,1,1,1\\} &= 4\\,\\epsilon \\, 5 - 4 J  - J - J  = 20 \\, \\epsilon - 6 J \\\\ \\\\\n",
    "H\\,\\{-1,-1,-1,-1,-1\\} &= - 4\\,\\epsilon \\, 5 - 4 J  + J + J = - 20 \\, \\epsilon - 2 J \\\\ \\\\\n",
    "H\\,\\{1,1,1,1,1\\} &= H\\,\\{-1,-1,-1,-1,-1\\} \\\\ \\\\\n",
    "20 \\, \\epsilon - 6 J &= - 20 \\, \\epsilon - 2 J \\\\\n",
    "40 \\, \\epsilon &=  4 J \\\\\n",
    "\\epsilon &= 0.1 J = \\frac{J}{10}\n",
    "\\end{align}\n",
    "Also, \n",
    "\\begin{align}\n",
    "\\beta \\, \\epsilon = \\frac{\\beta \\, J}{10}\n",
    "\\end{align}\n",
    "\n",
    "<br> <br>\n",
    "\n",
    "\n",
    "To calculate $P(N)$ and $F(N)$, we need he partition function for the system:\n",
    "\n",
    "\\begin{align}\n",
    " Z = \\sum_{\\{s\\}} e^{-\\beta H(\\{s\\})}.\n",
    "\\end{align}\n",
    "So the probability for  a macrostate is \n",
    "\\begin{align}\n",
    "P(N)= \\frac{\\sum_{\\{s\\}} e^{-\\beta H(\\{s\\})} \\, \\, \\delta \\left( N-\\sum^L_{i=1}m_i(s_i) \\right) }{\\sum_{\\{s\\}} e^{-\\beta H(\\{s\\})}}, \n",
    "\\end{align}\n",
    "where $m_i(s_i) = \\frac{1+s_i}{2} = \\{0,1\\}$, and $\\sum_i m_i = N$.\n",
    "\n",
    "<br>\n",
    "\n",
    "In this case, the free energy $F(N)$ will be:\n",
    "\\begin{align}\n",
    "F(N) &= - k_B T\\,  ln \\, P(N) \\\\ \n",
    "\\beta F(N) &= - ln \\, P(N)\n",
    "\\end{align}\n",
    "\n",
    "<br> <br> \n",
    "Definitions of the partiton function, $m_i$ function and the probability of all macrostates $\\{N\\}=\\{0, 1, 2, 3, 4, 5\\}$:"
   ]
  },
  {
   "cell_type": "code",
   "execution_count": 5,
   "metadata": {},
   "outputs": [],
   "source": [
    "def partition_fn(eps, J, microstates=microstates()):\n",
    "    '''Returns partition function for all microstates.'''\n",
    "    \n",
    "    x = energy(eps, J, microstates)\n",
    "    \n",
    "    return np.sum(np.exp(-x))\n",
    "\n",
    "###########################################################\n",
    "\n",
    "def m_i(microstates):\n",
    "    '''Computes list of m_i, given list of spins.\n",
    "    s_i=1, m_i=1. s_i=-1, m_i=0'''\n",
    "    \n",
    "    m_i = np.array(microstates) == 1\n",
    "\n",
    "    return m_i.astype(float)\n",
    "\n",
    "###########################################################\n",
    "\n",
    "def all_probs(eps, J, L=5, microstates=microstates()):\n",
    "    '''Calculates all probabilities for all macrostates.\n",
    "    Returns a list of probabilities for each macrostate.'''\n",
    "    all_probs = []\n",
    "    \n",
    "    exp_energies = np.exp(-energy(eps,J,microstates))\n",
    "    partition = partition_fn(eps, J, microstates)\n",
    "    \n",
    "    div = exp_energies/partition\n",
    "    m = m_i(microstates)\n",
    "    \n",
    "    for N in range(L+1):\n",
    "        delta = np.sum(m, axis=1) == N \n",
    "        \n",
    "        prob_N = np.sum(div*delta)      \n",
    "        \n",
    "        all_probs.append(prob_N)\n",
    "        \n",
    "    return all_probs\n",
    "\n",
    "###########################################################\n",
    "\n",
    "def free_energy(eps, J, L=5, microstates=microstates()):\n",
    "    '''Calculates free energy given the probability for a macrostate.'''\n",
    "\n",
    "    return -np.log(all_probs(eps, J, L, microstates))"
   ]
  },
  {
   "cell_type": "markdown",
   "metadata": {},
   "source": [
    "Plot of $P(N)$ and $\\beta F(N)$."
   ]
  },
  {
   "cell_type": "code",
   "execution_count": 6,
   "metadata": {},
   "outputs": [
    {
     "data": {
      "image/png": "[encoded data removed]",
      "text/plain": [
       "<Figure size 432x288 with 1 Axes>"
      ]
     },
     "metadata": {
      "needs_background": "light"
     },
     "output_type": "display_data"
    },
    {
     "data": {
      "image/png": "[encoded data removed]",
      "text/plain": [
       "<Figure size 432x288 with 1 Axes>"
      ]
     },
     "metadata": {
      "needs_background": "light"
     },
     "output_type": "display_data"
    }
   ],
   "source": [
    "macrostates = [0,1,2,3,4,5]\n",
    "J_part1 = [0.4, 0.8, 1.2]\n",
    "\n",
    "#Probability P(N)\n",
    "for J in J_part1:\n",
    "    plt.plot(macrostates, all_probs(J/10, J), label='J / kT = {}'.format(J)); \n",
    "plt.legend();\n",
    "plt.xlabel('N');\n",
    "plt.ylabel('P(N)');\n",
    "plt.title('Probability vs occupation number')\n",
    "plt.show()\n",
    "\n",
    "# Free Energy F(N)\n",
    "for J in J_part1:\n",
    "    plt.plot(macrostates, free_energy(J/10, J), label=r'$\\beta \\, J$ = {}'.format(J));\n",
    "plt.title('Free energy vs occupation number')\n",
    "plt.legend();\n",
    "plt.xlabel('N');\n",
    "plt.ylabel(r'$\\beta \\, F(N)$');"
   ]
  },
  {
   "cell_type": "markdown",
   "metadata": {},
   "source": [
    "In these two plots we can see that for increasing value of $\\beta \\,J$, there is a shift of most probable states. At low values of $\\beta \\,J$ like at $\\beta \\,J=0.4$, there is a moderate free energy well at around $N=2$, favoring the population of intermediatelly filled states.\n",
    "\n",
    "For increasing values of $\\beta \\,J$, the trend inverts, where the completely filled and completely empty states are most favorable and most probable. The coupling between water cells gains importance, so that at lower values of $\\beta \\,J$ we can have mixed regimes with both empty and filled cells. But when $\\beta \\, J$ increases, the penalty of having an interface, or a filled water cell next to an empty (gas) water cell, is large, and so the system only allows for fully full or empty states, with no interfaces inside of the tube. \n",
    "\n",
    "We can relate this to a high surface tension being directly proportional to a high $\\beta \\,J$. If there is a high surface tension, interfaces will not be favorable and a uniform system will be preferred. However, at low surface tension, there is no penalty to create additional interfaces. In this case, the fluctuations become relevant and by an argument of entropy and degeneracy, the system will be able to explore and prefer an intermediately filled state, as there are more microstates that correspond to intemediately filled macrostates. We can check that this matches the amout of microstates for each macrostate (numbers in the table and in the plot below):\n",
    "\n",
    "| N | # microstates |\n",
    "|---|----|\n",
    "| 0 | 1 |\n",
    "| 1 | 5 |\n",
    "| 2 | 10 |\n",
    "| 3 | 5 |\n",
    "| 4 | 10 |\n",
    "| 5 | 1 |"
   ]
  },
  {
   "cell_type": "code",
   "execution_count": 7,
   "metadata": {},
   "outputs": [
    {
     "data": {
      "image/png": "[encoded data removed]",
      "text/plain": [
       "<Figure size 432x288 with 1 Axes>"
      ]
     },
     "metadata": {
      "needs_background": "light"
     },
     "output_type": "display_data"
    }
   ],
   "source": [
    "mic_numb = [1,5,10,5,10,1]\n",
    "plt.plot(macrostates, mic_numb);\n",
    "plt.xlabel('N');\n",
    "plt.ylabel('Microstate number');\n",
    "plt.title('Number of microstates for each occupation number');"
   ]
  },
  {
   "cell_type": "markdown",
   "metadata": {},
   "source": [
    "## Surface tension\n",
    "\n",
    "For each interface of area $d^2 = 3.7^2 \\, \\unicode[serif]{xC5} ^2 $, there is a $2J$ penalty, so the expression relating the two using the surface tension is \n",
    "\\begin{align}\n",
    "2 J = \\gamma d^2.\n",
    "\\end{align}\n",
    "Using the value of $\\gamma = 72$ mN/m $= 72$ mJ/$\\mathrm{m}^2 =$ 0.072 J/$\\mathrm{m}^2$, we can get $J$, or $J/k_B T$:\n",
    "\\begin{align}\n",
    "2 J & = \\gamma d^2 \\\\\n",
    "2 J & = 0.072 \\, \\mathrm{J/m}^2 \\, (3.7·10^{-10})^2 \\, \\mathrm{m}^2 \\\\\n",
    "J & = 4.928·10^{-21} \\, \\mathrm{J}\\\\\n",
    "\\beta  \\,J & = 1.198\n",
    "\\end{align}\n",
    "\n",
    "The value that corresponds to $\\beta \\, J$ at room temperature is $\\beta \\, J = 1.2$.\n",
    "\n",
    "As seen before, this is the value where $\\beta \\, J$ gains importance with respect to the entropy, and states with no interfaces, completely filled or empty, will be preferred when satisfying the degeneracy condition."
   ]
  },
  {
   "cell_type": "code",
   "execution_count": 8,
   "metadata": {},
   "outputs": [
    {
     "name": "stdout",
     "output_type": "stream",
     "text": [
      "J =  4.9284000000000005e-21 J\n",
      "J\\k_BT =  1.197860935948025\n"
     ]
    }
   ],
   "source": [
    "# Calculation\n",
    "J = ((3.7*(10**(-10)))**2 * 0.072/2)\n",
    "print('J = ',J, 'J')\n",
    "print('J\\k_BT = ', J/(298*1.380649*(10**(-23))))"
   ]
  },
  {
   "cell_type": "markdown",
   "metadata": {},
   "source": [
    "# Part 2"
   ]
  },
  {
   "cell_type": "markdown",
   "metadata": {},
   "source": [
    "In the plots below I show filled, empty and bistable occupancy. The constant values have been found by trial and error, and five values for the empty and filled occupancy are analyzed to show how robust the states are:\n",
    "- $\\beta \\, \\epsilon < 0.1\\, \\beta \\,J$,  mostly filled\n",
    "- when $\\beta \\,\\epsilon = 0.1\\, \\beta \\,J = 0.1198$, bistable\n",
    "- $\\beta  \\,\\epsilon > 0.1\\, \\beta \\,J$, mostly empty"
   ]
  },
  {
   "cell_type": "code",
   "execution_count": 9,
   "metadata": {
    "scrolled": false
   },
   "outputs": [
    {
     "data": {
      "image/png": "[encoded data removed]",
      "text/plain": [
       "<Figure size 432x288 with 1 Axes>"
      ]
     },
     "metadata": {
      "needs_background": "light"
     },
     "output_type": "display_data"
    },
    {
     "data": {
      "image/png": "[encoded data removed]",
      "text/plain": [
       "<Figure size 432x288 with 1 Axes>"
      ]
     },
     "metadata": {
      "needs_background": "light"
     },
     "output_type": "display_data"
    },
    {
     "data": {
      "image/png": "[encoded data removed]",
      "text/plain": [
       "<Figure size 432x288 with 1 Axes>"
      ]
     },
     "metadata": {
      "needs_background": "light"
     },
     "output_type": "display_data"
    }
   ],
   "source": [
    "#Defining constant values\n",
    "J_rt = 1.198\n",
    "eps_filled = np.linspace(0.01,0.15, 5)\n",
    "eps_empty = np.linspace(0.25,0.7, 5)\n",
    "\n",
    "#Filled\n",
    "for eps in eps_filled:\n",
    "    plt.plot(macrostates, all_probs(eps, J_rt));\n",
    "plt.title(r'Filled tube occupancy, low water-tube interaction penalty. $\\beta \\, \\epsilon < 0.1\\, \\beta \\,J$')\n",
    "plt.xlabel('N');\n",
    "plt.ylabel('P(N)');\n",
    "plt.show()\n",
    "\n",
    "#Bistable\n",
    "plt.plot(macrostates, all_probs(J_rt/10, J_rt))\n",
    "plt.title(r'Bistable tube occupancy, medium water-tube interaction penalty. $\\beta \\, \\epsilon = 0.1 \\, \\beta \\, J $  ')\n",
    "plt.xlabel('N');\n",
    "plt.ylabel('P(N)');\n",
    "plt.show()\n",
    "\n",
    "#Empty\n",
    "for eps in eps_empty:\n",
    "    plt.plot(macrostates, all_probs(eps, J_rt));\n",
    "plt.title(r'Empty tube occupancy, high water-tube interaction penalty. $\\beta \\, \\epsilon > 0.1\\, \\beta \\,J$')\n",
    "plt.xlabel('N');\n",
    "plt.ylabel('P(N)');"
   ]
  },
  {
   "cell_type": "markdown",
   "metadata": {},
   "source": [
    "In these plots above we can see the relationship between the coupling of  water cells and the coupling of water cells with nanotube cells at room temperature. For large values of $\\beta \\, \\epsilon$, the hydrophobicity of the nanotube is the most important effect, and so the most favorable states are the empty ones. When $\\beta \\, \\epsilon = 0.1\\, \\beta \\, J$, the empty and filled states are degenerate, due to a balance of $\\beta \\, \\epsilon$ and $\\beta \\, J$. And for low values of $\\beta \\, \\epsilon$, the trend inverts as the hydrophobicity of the nanotube is negligible, and so the dominance of $\\beta \\, J$ leads to a completely filled tube, with no interfaces even with the bulk outside of the tube.  "
   ]
  },
  {
   "cell_type": "markdown",
   "metadata": {},
   "source": [
    "# Part 3"
   ]
  },
  {
   "cell_type": "markdown",
   "metadata": {},
   "source": [
    "First, trying to analyze the values of $\\beta \\, J$ vs $\\beta \\, \\epsilon$ for the different P(N). These functions were written before the current energy and probability functions, which are optimized. However, to generate the plots below these non-vectorized functions are useful. They are only used in this section."
   ]
  },
  {
   "cell_type": "code",
   "execution_count": 10,
   "metadata": {},
   "outputs": [],
   "source": [
    "def energy_old(eps, J, spins):\n",
    "        '''Computes the Energy for a given microstate, unitless (E/(kB*T).\n",
    "        eps, J are unitless constants (divided by kB*T), spins is a list.'''\n",
    "        \n",
    "        coup_wat_nanot = 4*eps*np.sum(spins)\n",
    "        \n",
    "        coup_spins = [spins[i]*spins[i+1] for i,_ in enumerate(spins[:-1])]\n",
    "        coup_wat = - J*(np.sum(coup_spins) + spins[0] + spins[-1])\n",
    "        \n",
    "        return coup_wat_nanot + coup_wat\n",
    "    \n",
    "def probability_microstate_old(eps, J, spins, N, L=5, microstates=microstates()):    \n",
    "    '''Computes probability of given microstate, given a macrostate. \n",
    "    Microstates is list of lists of spins. \n",
    "    Returns a single value'''\n",
    "    partit_fn =  np.sum(np.exp(-energy_old(eps, J, spins)) for spins in microstates)\n",
    "    \n",
    "    if np.sum(m_i(spins)) == N:\n",
    "        return np.exp(-energy_old(eps, J, spins))/partit_fn\n",
    "    else: \n",
    "        return 0\n",
    "\n",
    "\n",
    "def probability_macrostate_old(eps, J, N, L=5, microstates=microstates()):    \n",
    "    '''Computes probability of given macrostate. \n",
    "    Microstates is list of lists of spins.\n",
    "    Returns a single value.'''\n",
    "    \n",
    "    return np.sum([probability_microstate_old(eps, J, spins, N, L, microstates) \n",
    "                   for spins in microstates])"
   ]
  },
  {
   "cell_type": "code",
   "execution_count": 11,
   "metadata": {
    "scrolled": false
   },
   "outputs": [
    {
     "name": "stderr",
     "output_type": "stream",
     "text": [
      "C:\\Users\\M\\Anaconda3\\lib\\site-packages\\ipykernel_launcher.py:16: DeprecationWarning: Calling np.sum(generator) is deprecated, and in the future will give a different result. Use np.sum(np.fromiter(generator)) or the python sum builtin instead.\n",
      "  app.launch_new_instance()\n"
     ]
    },
    {
     "data": {
      "image/png": "[encoded data removed]",
      "text/plain": [
       "<Figure size 432x288 with 2 Axes>"
      ]
     },
     "metadata": {
      "needs_background": "light"
     },
     "output_type": "display_data"
    },
    {
     "data": {
      "image/png": "[encoded data removed]",
      "text/plain": [
       "<Figure size 432x288 with 2 Axes>"
      ]
     },
     "metadata": {
      "needs_background": "light"
     },
     "output_type": "display_data"
    },
    {
     "data": {
      "image/png": "[encoded data removed]",
      "text/plain": [
       "<Figure size 432x288 with 2 Axes>"
      ]
     },
     "metadata": {
      "needs_background": "light"
     },
     "output_type": "display_data"
    },
    {
     "data": {
      "image/png": "[encoded data removed]",
      "text/plain": [
       "<Figure size 432x288 with 2 Axes>"
      ]
     },
     "metadata": {
      "needs_background": "light"
     },
     "output_type": "display_data"
    },
    {
     "data": {
      "image/png": "[encoded data removed]",
      "text/plain": [
       "<Figure size 432x288 with 2 Axes>"
      ]
     },
     "metadata": {
      "needs_background": "light"
     },
     "output_type": "display_data"
    },
    {
     "data": {
      "image/png": "[encoded data removed]",
      "text/plain": [
       "<Figure size 432x288 with 2 Axes>"
      ]
     },
     "metadata": {
      "needs_background": "light"
     },
     "output_type": "display_data"
    }
   ],
   "source": [
    "J_part3 = np.linspace(0, 2, 100) \n",
    "eps_part3 = np.linspace(-0.5, 0.5, 100)\n",
    "J_mesh, ep_mesh = np.meshgrid(J_part3, eps_part3)\n",
    "\n",
    "for N in macrostates:\n",
    "    P = probability_macrostate_old(ep_mesh, J_mesh, N)\n",
    "    plt.figure()\n",
    "    plt.contourf(J_mesh, ep_mesh, P)\n",
    "    plt.title('P (N={})'.format(N))\n",
    "    plt.xlabel(r'$\\beta \\, J$')\n",
    "    plt.ylabel(r'$\\beta \\, \\epsilon$')\n",
    "    plt.colorbar()\n"
   ]
  },
  {
   "cell_type": "markdown",
   "metadata": {},
   "source": [
    "From these plots above it can be seen that, within the analyzed window (deemed relevant by examining a larger window and not observing any additional interesting features), there are some values for $\\beta \\epsilon$ and $\\beta J$ where there are maximum values of P(N) for each occupancy value, at very low values of $\\beta J$ and at values of $\\beta \\epsilon$ nearing 0, decreasing with increased occupation number. This makes sense, as a decreased $\\beta \\epsilon$ minimized the hydrophobic penalty of the coupling of the nanotube with a filled water cell, and an increased water cell occupation is favored.\n",
    "\n",
    "For the extreme cases of emtpy or full occupancy, there are wider regions instead of localized maxima, at distinct values of $\\beta \\epsilon$ at low $\\beta J$, and closer to $\\beta \\epsilon = 0$ at larger values of $\\beta J$. It also seems that at higher values of $\\beta J$, $P(N=0)$ and $P(N=5)$ could overlap (as in the bistable state). This follows the trend above of lower values of  $\\beta \\epsilon$ for increased occupancy. \n",
    "\n",
    "However, it is hard to identify relative peaks through this discrete plots, and so the following function finds peaks given P(J, $\\epsilon$), and their relative height:   "
   ]
  },
  {
   "cell_type": "code",
   "execution_count": 12,
   "metadata": {},
   "outputs": [],
   "source": [
    "def find_peaks(eps, J, L=5, microstates=microstates()):\n",
    "    '''Finds peaks of probability distribution of macrostates for given parameters.'''\n",
    "    probs = all_probs(eps, J)\n",
    "    peaks = []\n",
    "    \n",
    "    for i, p in enumerate(probs):\n",
    "        if i == 0:\n",
    "            if p > probs[i+1]:\n",
    "                peaks.append(i)\n",
    "            \n",
    "        if i > 0 and i < L: \n",
    "            if p > probs[i-1] and p > probs[i+1]:\n",
    "                peaks.append(i)\n",
    "            \n",
    "        if i == L:\n",
    "            if p > probs[i-1]:\n",
    "                peaks.append(i)\n",
    "                   \n",
    "    total_peaks = np.sum(len(peaks))\n",
    "    \n",
    "    # More than one peak\n",
    "    if total_peaks > 1:\n",
    "        largest_prob = np.argmax([probs[i] for i in peaks])\n",
    "        return [eps, J, total_peaks, largest_prob] \n",
    "\n",
    "    # Only one peak\n",
    "    return [eps, J, total_peaks, peaks]"
   ]
  },
  {
   "cell_type": "markdown",
   "metadata": {},
   "source": [
    "Making a phase diagram, plotting the different peak regimes:"
   ]
  },
  {
   "cell_type": "code",
   "execution_count": 13,
   "metadata": {},
   "outputs": [
    {
     "data": {
      "image/png": "[encoded data removed]",
      "text/plain": [
       "<Figure size 432x288 with 1 Axes>"
      ]
     },
     "metadata": {
      "needs_background": "light"
     },
     "output_type": "display_data"
    }
   ],
   "source": [
    "eps_part3 = np.linspace(0, 0.5, 150) \n",
    "J_part3 = np.linspace(0, 2, 150)\n",
    "ep_mesh, J_mesh = np.meshgrid(eps_part3, J_part3)\n",
    "\n",
    "\n",
    "peak_info_10 = []\n",
    "for eps, Js in zip(ep_mesh, J_mesh):\n",
    "    for ep, J in zip(eps,Js):\n",
    "        peaks = find_peaks(ep,J)\n",
    "        peak_info_10.append(peaks)\n",
    "colors = ['#a6cee3','#1f78b4','#b2df8a','#33a02c','#fb9a99','#e31a1c','#fdbf6f','#ff7f00','#cab2d6']\n",
    "\n",
    "n_0, n_1, n_2, n_3, n_4, n_5, n_6, n_7, n_8 = 0,0,0,0,0,0,0,0,0\n",
    "\n",
    "for p in peak_info_10[::]:\n",
    "\n",
    "    if p[2] == 0:\n",
    "        if n_0 == 0:\n",
    "            plt.scatter(p[1], p[0], color=colors[0], marker='.', label='No peaks')\n",
    "        plt.scatter(p[1], p[0], color=colors[0], marker='.')\n",
    "        n_0 +=1\n",
    "        \n",
    "    # 1 peak\n",
    "    ## Empty\n",
    "    if p[2] == 1 and p[3]==[0]:\n",
    "        if n_1 == 0:\n",
    "            plt.scatter(p[1], p[0], color='blue', marker='.', label='p=1, N=0')\n",
    "        plt.scatter(p[1], p[0], color='blue', marker='.')\n",
    "        n_1 +=1\n",
    "    ## Full\n",
    "    if p[2] == 1 and p[3]==[5]:\n",
    "        if n_2 == 0:\n",
    "            plt.scatter(p[1], p[0], color=colors[2], marker='.', label='p=1, N=5')\n",
    "        plt.scatter(p[1], p[0], color=colors[2], marker='.')\n",
    "        n_2 +=1\n",
    "    ## Elsewhere\n",
    "    if p[2] == 1 and p[3]!=[0] and p[3]!=[5]:\n",
    "        if n_3 == 0:\n",
    "            plt.scatter(p[1], p[0], color=colors[3], marker='.', label='p=1, other')\n",
    "        plt.scatter(p[1], p[0], color=colors[3], marker='.')\n",
    "        n_3 +=1\n",
    "\n",
    "    #2 peaks\n",
    "    ## First larger\n",
    "    if p[2] == 2 and p[3]==[0]: # 1st larger\n",
    "        if n_4 == 0:\n",
    "            plt.scatter(p[1], p[0], color=colors[4], marker='.', label='p=2, 1st')\n",
    "        plt.scatter(p[1], p[0], color=colors[4], marker='.')\n",
    "        n_4 +=1\n",
    "    ## Second larger\n",
    "    if p[2] == 2 and p[3]==[1]: #and 2nd larger:\n",
    "        if n_5 == 0:\n",
    "            plt.scatter(p[1], p[0], color=colors[5], marker='.', label='p=2, 2nd')\n",
    "        plt.scatter(p[1], p[0], color=colors[5], marker='.')\n",
    "        n_5 +=1\n",
    "    \n",
    "    # 3, 4, and 5 peaks\n",
    "    if p[2] == 3:\n",
    "        if n_6 == 0:\n",
    "            plt.scatter(p[1], p[0], color=colors[6], marker='.', label='p=3')\n",
    "        plt.scatter(p[1], p[0], color=colors[6], marker='.')\n",
    "        n_6 +=1\n",
    "    if p[2] == 4:\n",
    "        if n_7 == 0:\n",
    "            plt.scatter(p[1], p[0], color=colors[7], marker='.', label='p=4')\n",
    "        plt.scatter(p[1], p[0], color=colors[7], marker='.')\n",
    "        n_7 +=1\n",
    "    if p[2] == 5:\n",
    "        if n_8 == 0:\n",
    "            plt.scatter(p[1], p[0], color=colors[8], marker='.', label='p=5')\n",
    "        plt.scatter(p[1], p[0], color=colors[8], marker='.')\n",
    "        n_8 +=1\n",
    "\n",
    "plt.title('Number of peaks')\n",
    "plt.xlabel(r'$\\beta  \\,J$')\n",
    "plt.ylabel(r'$\\beta \\, \\epsilon$')\n",
    "\n",
    "J_special = [0,2]\n",
    "eps_special = [0,0.2]\n",
    "plt.plot(J_special, eps_special, color='black', label='Bistability');\n",
    "\n",
    "plt.legend();"
   ]
  },
  {
   "cell_type": "markdown",
   "metadata": {},
   "source": [
    "As it had been hinted in the previous plots, the single maximum peak in probability for occupancy $N=5$ (light green, bottom right) is possible only at very low values of $\\beta \\epsilon$, where the nanotube is not very hydrophobic so it can be filled with water, and at moderately high values of $\\beta J$. As it had also been hinted, the maximum single peak at occupancy $N=0$ (blue, top left) occurs when hydrophobicity becomes of importance at higher values of $\\beta \\epsilon$. \n",
    "It also occurs at low values of $\\beta J$, as at higher values of $\\beta J$, the energetics of coupling between cells with different water occupancy become important and the creation of interfaces with the boundary bulk cells becomes less favorable. \n",
    "\n",
    "As we increase $\\beta J$ from a low value of $\\beta J$, we will reach the salmon area, where the first peak of the two peaks in the probability distribution is higher. This means low occupancy is preferred, but ther is also a local maximum at high occupancy. If we then lower the value of $\\beta \\epsilon$, we will reach the red area, where the second peak is highest, so now high occupancy is preferred, but low occupancy is still localy stable. As above explained, the nanotube becomes less hydrophobic and so more water can come in. However, the nanotube is still hydrophobic enough that low occupancy can also exist. In between the two two-peak states there is the bistability line, in black. The boundary, as explained above, is a balance between hydrophobicity ($\\beta \\epsilon$), favoring low occupancy at high values, and surface tension ($\\beta J$), favoring full occupancy at high values.\n",
    "\n",
    "And lastly, the green area at low values of $\\beta J$ and $\\beta \\epsilon$ in the bottom left occurs when the thermal fluctuations gain importance. In this case, neither $\\beta J$ and $\\beta \\epsilon$ are high enough to dominate the behavior of the system. All the microscopic spin states become degenerate energetically, and so entropy gains importance and the most probable macrostates will be those with a higher number of microstates. As seen above, this corresponds to the intermediatelly filled states, and so those will be the peak in probability."
   ]
  },
  {
   "cell_type": "markdown",
   "metadata": {},
   "source": [
    "# Part 4"
   ]
  },
  {
   "cell_type": "markdown",
   "metadata": {},
   "source": [
    "In this case, we can only have two cases: 0 or 2 interfaces, as an odd number of interfaces in a system with our symmetric boundary conditions is not possible. \n",
    "\n",
    "- For 0 interfaces, all $s_i$ = 1, and so the hamiltonian $ H\\,\\{s\\} = 4\\,\\epsilon \\sum_{i=1}^{L}s_i - J \\sum_{j=1}^{L-1}s_j s_{j+1} - J s_1 - J s_L$ becomes \n",
    "\n",
    "\\begin{align}\n",
    "H \\, (\\{s_i = 1 \\,\\, \\forall i \\}) = 4 \\, \\epsilon L - J(L-1)\n",
    "\\end{align}\n",
    "\n",
    "\n",
    "- For a system with up to two grain boundaries, we can assign k and l as the index where the grain boundaries appear. There are 6 possible interfaces, starting from the bulk-first cell (interface 0) until the last interface, cell L-bulk (interface L=5 in our case). For $k>l$, the number of unoccupied cells is $k-l$, and the number of occupied cells is $L-k-l$. The ranges for the indices $l$ and $k$ are $l:0 \\sim L-1=4$, and $k:l+1 \\sim L=5$. In this case, we can write the hamiltonian as: \n",
    "\n",
    "\\begin{align}\n",
    "H &= [L-(k-l)-(k-l)(-1)] 4 \\, \\epsilon + (L-3)J \\\\\n",
    "H &= [L-2(k-l)] 4 \\, \\epsilon + (L-3)J\n",
    "\\end{align}\n",
    "   \n",
    "<br> <br>\n",
    "\n",
    "A modified partition function under the constraint will be\n",
    "\\begin{align}\n",
    "Z^* &= \\sum^2_{p=o}\\sum_{\\{s\\}_p} e^{-\\beta H(\\{s\\})} = \\sum_{\\{s\\}_0} e^{-\\beta H} + \\sum_{\\{s\\}_2} e^{-\\beta H} = e^{-\\beta [4\\epsilon L-J(L+1)]} + \\sum_{\\{s\\}_2} e^{-\\beta H}, \\\\\n",
    "\\end{align}\n",
    "\n",
    "where $p$ is the number of interfaces and the last term is the following, with $q$ as the number of unoccupied cells:\n",
    "\n",
    "\\begin{align}\n",
    "\\sum_{\\{s\\}_2} e^{-\\beta H} &= \\sum_{q=1}^L \\sum_{\\{ s\\}_2} e^{-\\beta[4 \\epsilon(L-2q) + (L-3)J]} \\, \\delta(q -(k-l))  \\\\\n",
    " &= \\sum_{q=1}^L (L-q+1) e^{-\\beta \\, [4 \\epsilon(L-2q) + J(L-3)]} \\\\\n",
    " &=  e^{-\\beta [4 \\epsilon L + J(L-3)]} \\sum_{q=1}^L (L-q+1) \\, e^{8 \\, \\beta 8 \\epsilon q}\n",
    "\\end{align}\n",
    "\n",
    "If we call the summation S,\n",
    "\n",
    "\\begin{align}\n",
    "S &= \\sum_{q=1}^L (L-q+1) \\, e^{8 \\, \\beta \\epsilon q} \\\\\n",
    "e^{8 \\, \\beta \\epsilon } S &= \\sum_{q=1}^L (L-q+1) \\, e^{8 \\, \\beta \\epsilon (q+1)} = \\sum_{q=2}^{L+1} (L-(q-1)+1) \\, e^{8 \\, \\beta \\epsilon (q+1)} &= \\sum_{q=2}^{L+1} (L-q+2) \\, e^{8 \\, \\beta \\epsilon (q+1)} \\\\\n",
    "S - e^{8 \\, \\beta \\epsilon} S  &= (1-e^{8 \\, \\beta \\epsilon})S = - \\sum_{q=2}^Le^{8 \\, \\beta \\epsilon q} + L e^{8 \\, \\beta \\epsilon} - e^{8 \\, \\beta \\epsilon (L+1)} \\\\\n",
    "S &= \\frac{- \\sum_{q=2}^Le^{8 \\, \\beta \\epsilon q} + L e^{8 \\, \\beta \\epsilon} - e^{8 \\, \\beta \\epsilon (L+1)} }{1-e^{8 \\, \\beta \\epsilon} }\n",
    "\\end{align}\n",
    "\n",
    "If we call this second summation s,\n",
    "\n",
    "\\begin{align}\n",
    "s &= \\sum_{q=2}^Le^{8 \\, \\beta \\epsilon q} = e^{8 \\, \\beta \\epsilon 2} + e^{8 \\, \\beta \\epsilon 3} + ... + e^{8 \\, \\beta \\epsilon L} \\\\\n",
    "e^{8 \\, \\beta \\epsilon } s &= e^{8 \\, \\beta \\epsilon 3} + ... + e^{8 \\, \\beta \\epsilon (L+1)} \\\\\n",
    "(1-e^{8 \\, \\beta \\epsilon }) s &= e^{8 \\, \\beta \\epsilon 2} - e^{8 \\, \\beta \\epsilon (L+1)} \\\\\n",
    "s &= \\frac{e^{8 \\, \\beta \\epsilon 2} - e^{8 \\, \\beta \\epsilon (L+1)}}{1-e^{8 \\, \\beta \\epsilon }} \n",
    "\\end{align}\n",
    "\n",
    "Then the initial summation S is\n",
    "\\begin{align}\n",
    "S &=  \\frac{-e^{8 \\, \\beta \\epsilon 2} + e^{8 \\, \\beta \\epsilon (L+1)}}{(1-e^{8 \\, \\beta \\epsilon})^2} + \\frac{L e^{8 \\, \\beta \\epsilon}}{1-e^{8 \\, \\beta \\epsilon}}  - \\frac{e^{8 \\, \\beta \\epsilon (L+1)}}{1-e^{8 \\, \\beta \\epsilon}} \\\\\n",
    " S &= \\frac{e^{8 \\beta \\epsilon}(-1 -L + e^{8 \\beta \\epsilon L}) +L}{e^{-8 \\beta \\epsilon} -1}\n",
    "\\end{align}\n",
    "\n",
    "So overall, $Z^*$ in the closed form is:\n",
    "\\begin{align}\n",
    "Z^* =& e^{-\\beta [4\\epsilon L-J(L+1)]} +  e^{-\\beta [4 \\epsilon L + J(L-3)]} \\left[ \\frac{ L +e^{8 \\beta \\epsilon}( e^{8 \\beta \\epsilon L} -1 -L)}{e^{-8 \\beta \\epsilon} -1} \\right]\n",
    "\\end{align}\n",
    "\n",
    "\n",
    "Then the free energy will be:\n",
    "\n",
    "\\begin{align}\n",
    "F(N) &= - k_B T \\, ln \\frac{\\sum_{\\{s\\}} e^{-\\beta H(\\{s\\})} \\, \\, \\delta \\left( N-\\sum^L_{i=1}m_i(s_i) \\right) \\, \\, \\delta \\left\\{ q-(k-l) \\right\\} }{ Z^* } \\\\ \\\\ \\\\\n",
    "F(N) &= -k_B T \\, ln \\, \\frac{\\sum_{\\{s\\}} e^{-\\beta H(\\{s\\})} \\, \\, \\delta \\left( N-\\sum^L_{i=1}m_i(s_i) \\right) \\, \\, \\delta \\left\\{ q-(k-l) \\right\\}}{e^{-\\beta [4\\epsilon L-J(L+1)]} +  e^{-\\beta [4 \\epsilon L + J(L-3)]} \\left[ \\frac{ L +e^{8 \\beta \\epsilon}( e^{8 \\beta \\epsilon L} -1 -L)}{e^{-8 \\beta \\epsilon} -1} \\right] } \\\\ \\\\ \n",
    "\\beta F(N) &= - ln \\, \\frac{\\sum_{\\{s\\}} e^{-\\beta H(\\{s\\})} \\, \\, \\delta \\left( N-\\sum^L_{i=1}m_i(s_i) \\right) \\, \\, \\delta \\left\\{ q-(k-l) \\right\\}} {  e^{-\\beta [4\\epsilon L-J(L+1)]} +  e^{-\\beta [4 \\epsilon L + J(L-3)]} \\left[ \\frac{ L +e^{8 \\beta \\epsilon}( e^{8 \\beta \\epsilon L} -1 -L)}{e^{-8 \\beta \\epsilon} -1} \\right] } \n",
    "\\end{align}\n",
    "\n",
    "\n",
    "As a reminder, the exact answer equations are the following:\n",
    "\\begin{align}\n",
    " Z &= \\sum_{\\{s\\}} e^{-\\beta H(\\{s\\})} \\\\\n",
    "P(N)&= \\frac{\\sum_{\\{s\\}} e^{-\\beta H(\\{s\\})} \\, \\, \\delta \\left( N-\\sum^L_{i=1}m_i(s_i) \\right) }{\\sum_{\\{s\\}} e^{-\\beta H(\\{s\\})}} \\\\\n",
    "F(N) &= - k_B T\\,  ln \\, P(N) \\\\ \n",
    "\\beta F(N) &= - ln \\, P(N)\n",
    "\\end{align}\n"
   ]
  },
  {
   "cell_type": "code",
   "execution_count": null,
   "metadata": {},
   "outputs": [],
   "source": [
    "def approx_partition_fn(eps, J, L=5):\n",
    "    '''Returns partition function for microstates with 0 or 2 interfaces.'''\n",
    "    \n",
    "    zero = np.exp(-4*eps*L+J*(L+1))\n",
    "    two = np.exp(-4*eps*L-J*(L-3))*(L + np.exp(8*eps)*(np.exp(8*eps*L)-1-L))/(np.exp(-8*eps)-1)\n",
    "    \n",
    "    return zero + two\n",
    "\n",
    "def interfaces(L=5, microstates=microstates()):\n",
    "    '''Calculates number of interfaces for each microstate.'''\n",
    "    m = m_i(microstates)\n",
    "    \n",
    "    ext_0 = m[:, 0]==0\n",
    "    ext_L = m[:, L-1]==0\n",
    "    interior = np.sum([m[:,i]!=m[:,i+1] for i in range(L-1)], axis=0)   \n",
    "    \n",
    "    return ext_0+interior+ext_L\n",
    "\n",
    "def approx_probs(eps, J, L=5, microstates=microstates()):\n",
    "    '''Calculates probabilities for macrostates with 0 or 2 interfaces.\n",
    "    Returns a list of probabilities for each macrostate.'''\n",
    "    all_probs = []\n",
    "    \n",
    "    exp_energies = np.exp(-energy(eps,J,microstates))\n",
    "    partition = approx_partition_fn(eps, J, L)    \n",
    "    div = exp_energies/partition\n",
    "    \n",
    "    m = m_i(microstates)\n",
    "    \n",
    "    delta2 = interfaces(L, microstates) <= 2\n",
    "    \n",
    "    for N in range(L+1):\n",
    "        delta = np.sum(m, axis=1) == N\n",
    "        \n",
    "        prob_N = np.sum(div*delta*delta2)\n",
    "        all_probs.append(prob_N)\n",
    "        \n",
    "    return all_probs/np.sum(all_probs)"
   ]
  },
  {
   "cell_type": "markdown",
   "metadata": {},
   "source": [
    "# address normalization\n",
    "# IT CHANGES?!"
   ]
  },
  {
   "cell_type": "code",
   "execution_count": null,
   "metadata": {},
   "outputs": [],
   "source": [
    "np.sum(all_probs(J/10, J))"
   ]
  },
  {
   "cell_type": "code",
   "execution_count": null,
   "metadata": {},
   "outputs": [],
   "source": [
    "normaliz = np.sum(approx_probs(J/10, J))\n",
    "normaliz"
   ]
  },
  {
   "cell_type": "code",
   "execution_count": null,
   "metadata": {},
   "outputs": [],
   "source": [
    "color_exact = ['#e6550d','#3182bd','#31a354']\n",
    "color_approx = ['#fdae6b','#9ecae1','#a1d99b']\n",
    "\n",
    "#blues ['#deebf7','#9ecae1','#3182bd']\n",
    "\n",
    "for i, J in enumerate(J_part1):\n",
    "    plt.plot(macrostates, free_energy(J/10, J), color=color_exact[i], linewidth=2, \n",
    "             label= r'$\\beta \\, J $= {}, exact'.format(J));\n",
    "    plt.plot(macrostates, -np.log(approx_probs(J/10, J)), color=color_approx[i], linewidth=2, \n",
    "             label= r'$\\beta  \\,J$ = {}, approx'.format(J))\n",
    "plt.legend();\n",
    "plt.xlabel('N');\n",
    "plt.ylabel(r'$\\beta F(N)$');"
   ]
  },
  {
   "cell_type": "markdown",
   "metadata": {},
   "source": [
    "In the plot above, the darker shades correspond to the exact solutions, and the ligher shades correspond to the approximate solution. In green, we can see that at room temperature values of $\\beta J$, the approximation holds very well. However, with lower values of $\\beta J$, the approximation starts to vary a lot from the exact solution (blue and orange). This happens at higher temperatures, or low values of $J$. In both cases, entropy starts to play a bigger role, and so the assumption that only two or less interfaces will exist is no longer valid. \n",
    "At high temperatures, the method breaks down because entropy starts to take a bigger role and so more states are available, overcoming the energetics of the system. More interfaces will be created. And at low values of $J$, the same phenomenon will happen due to a decrease in the energetic penalty of coupling different spins."
   ]
  },
  {
   "cell_type": "markdown",
   "metadata": {},
   "source": [
    "# Part 5"
   ]
  },
  {
   "cell_type": "markdown",
   "metadata": {},
   "source": [
    "The exact hamiltonian is \n",
    "\\begin{align}\n",
    "   \\beta \\, H\\,\\{s\\} = 4\\,\\beta \\, \\epsilon \\sum_{i=1}^{L}s_i - \\beta \\, J \\left( \\sum_{j=1}^{L-1}s_j s_{j+1} - s_1 - s_L \\right ).\n",
    "\\end{align}\n",
    "\n",
    "\n",
    "By using a mean field treatment, where $s_i = \\{+1,-1\\}$, and $H_i = -h_i s_i$, we can approximate each spin as:\n",
    "\n",
    "\\begin{align}\n",
    "<s_i> = \\frac{\\sum_{s_i} s_i e^{\\beta H_i(s_i)}} {\\sum_{s_i} e^{\\beta H_i(s_i)}} = \\frac{e^{\\beta h_i} - e^{-\\beta h_i}}{e^{\\beta h_i} + e^{-\\beta h_i}} = tahn (\\beta h_i)\n",
    "\\end{align}\n",
    "\n",
    "So for the uncoupled case, the hamiltonian for the i$\\mathrm{^{th}}$ cell in mean field will be \n",
    "\\begin{align}\n",
    "\\beta \\, h_{i,mf} = -4\\beta \\, \\epsilon + \\beta \\, J(<s_{i-1}>_{mf} + <s_{i+1}>_{mf})\n",
    "\\end{align}\n",
    "\n",
    "So for each spin, $<s_{i}>_{mf}$ is:\n",
    "\\begin{align}\n",
    "<s_{1}>_{mf} &= \\mathrm{tanh}\\,\\left[-4\\beta \\, \\epsilon+\\beta \\, J (1+<s_{2}>_{mf})\\right] \\\\\n",
    "<s_{2}>_{mf} &= \\mathrm{tanh}\\,\\left[-4\\beta \\, \\epsilon+\\beta \\, J (<s_{1}>_{mf}+<s_{3}>_{mf})\\right] \\\\\n",
    "... \\\\\n",
    "<s_{L=5}>_{mf} &= \\mathrm{tanh}\\,\\left[-4\\beta \\, \\epsilon+\\beta \\, J (<s_{4}>_{mf}+1)\\right]\n",
    "\\end{align}\n",
    "\n",
    "We need to satisfy all of the equations at once. So we can use an iterative approach to solve them. Here I have used the function scipy.optimize.fsolve to do so."
   ]
  },
  {
   "cell_type": "code",
   "execution_count": 18,
   "metadata": {},
   "outputs": [],
   "source": [
    "def spin_solve(s, *args):\n",
    "    eps, J = args\n",
    "    s1, s2, s3, s4, s5 = s\n",
    "    \n",
    "    x1 = np.tanh(-4*eps + J*(1+s2)) - s1\n",
    "    x2 = np.tanh(-4*eps+J*(s1+s3)) - s2\n",
    "    x3 = np.tanh(-4*eps+J*(s2+s4)) - s3\n",
    "    x4 = np.tanh(-4*eps+J*(s3+s5)) - s4\n",
    "    x5 = np.tanh(-4*eps+J*(s4+1)) - s5\n",
    "    \n",
    "    x = np.array([x1, x2, x3, x4, x5])\n",
    "    \n",
    "    return x"
   ]
  },
  {
   "cell_type": "code",
   "execution_count": 19,
   "metadata": {},
   "outputs": [],
   "source": [
    "J = 1.198\n",
    "eps = J/10\n",
    "\n",
    "x, a, b, c = scipy.optimize.fsolve(spin_solve, np.array([1,1,1,1,1]), (eps, J), full_output=True)"
   ]
  },
  {
   "cell_type": "code",
   "execution_count": 20,
   "metadata": {},
   "outputs": [
    {
     "data": {
      "text/plain": [
       "12"
      ]
     },
     "execution_count": 20,
     "metadata": {},
     "output_type": "execute_result"
    }
   ],
   "source": [
    "a['nfev']"
   ]
  },
  {
   "cell_type": "code",
   "execution_count": 21,
   "metadata": {},
   "outputs": [],
   "source": [
    "e, f, g, h = scipy.optimize.fsolve(spin_solve, np.array([-1,-1,-1,-1,-1]), (eps, J), full_output=True)"
   ]
  },
  {
   "cell_type": "code",
   "execution_count": 22,
   "metadata": {},
   "outputs": [
    {
     "data": {
      "text/plain": [
       "12"
      ]
     },
     "execution_count": 22,
     "metadata": {},
     "output_type": "execute_result"
    }
   ],
   "source": [
    "f['nfev']"
   ]
  },
  {
   "cell_type": "markdown",
   "metadata": {},
   "source": [
    "reproduce plots P(N)\n",
    "Compare with each other, exact part 2\n",
    "\n",
    "\n",
    "importance fluc's water occupancy?\n",
    "# explain well\n",
    "mean field good at high epsilon. not good at low epsilons: high fluctuations"
   ]
  },
  {
   "cell_type": "markdown",
   "metadata": {},
   "source": [
    "# Part 6"
   ]
  },
  {
   "cell_type": "markdown",
   "metadata": {},
   "source": [
    "To model the dynamics of the system obeying detailed balance, I will use the Monte Carlo-Metropolis Algorithm, as explained in class. It obeys detailed balance. I will use the parameters from part 1, in the three possible regimes seen in part 2."
   ]
  },
  {
   "cell_type": "markdown",
   "metadata": {},
   "source": [
    "Functions to run the dynamics: acceptance criteria and actual dynamics."
   ]
  },
  {
   "cell_type": "code",
   "execution_count": 23,
   "metadata": {},
   "outputs": [],
   "source": [
    "def acceptance(eps,J,spins, L=5):\n",
    "    '''Generates a new microstate and determines whether it should \n",
    "    be accepted or not. Spins is a list of spins.'''\n",
    "        \n",
    "    spins_test = np.copy(spins)\n",
    "    to_change = int(np.random.randint(low=0,high=L,size=1))\n",
    "    spins_test[:,to_change] = spins[:,to_change]*-1\n",
    "\n",
    "    energy_start = energy(eps, J, spins)\n",
    "    energy_test = energy(eps, J, spins_test)\n",
    "    \n",
    "    # Accept\n",
    "    if energy_test <= energy_start:\n",
    "        return spins_test  \n",
    "    \n",
    "    if np.random.random() <= np.exp(-energy_test):\n",
    "        return spins_test\n",
    "    \n",
    "    # Reject\n",
    "    return spins\n",
    "\n",
    "#########################################################################\n",
    "\n",
    "def dynamics(eps, J, init_spins, steps, L=5):\n",
    "    '''Runs dynamics of the system.'''\n",
    "    \n",
    "    spins_dyn = np.zeros((steps, L))\n",
    "    spins = init_spins\n",
    "    \n",
    "    for step in range(steps):\n",
    "        spins = acceptance(eps, J, spins)\n",
    "        spins_dyn[step] = spins\n",
    "        \n",
    "    return spins_dyn"
   ]
  },
  {
   "cell_type": "markdown",
   "metadata": {},
   "source": [
    "Functions for the analysis of the dynamics of a system.\n",
    "# is this running average??"
   ]
  },
  {
   "cell_type": "code",
   "execution_count": 24,
   "metadata": {},
   "outputs": [],
   "source": [
    "def avg_prob(dyns, eps, J, L=5):\n",
    "    '''Calculates the probability\n",
    "    given the dynamics of a system. \n",
    "    Dyns is a list of microstates.'''\n",
    "    avg_prob = np.zeros((len(dyns), L+1))\n",
    "    \n",
    "    for i, _ in enumerate(dyns):\n",
    "        avg_prob[i] = all_probs(eps, J, L, dyns[:i+1])\n",
    "        \n",
    "    return avg_prob\n",
    "\n",
    "#########################################################################\n",
    "\n",
    "def info_dyn(dyns, eps, J, L=5):\n",
    "    '''Calculates running average, occupation number \n",
    "    and number of interfaces given the dynamics of a system. Dyns \n",
    "    is a list of microstates.'''\n",
    "    clean_info = m_i(dyns)\n",
    "        \n",
    "    # Occupation number\n",
    "    occup = np.zeros(len(dyns))\n",
    "    for i, c in enumerate(clean_info):\n",
    "        occup[i] = np.sum(c)\n",
    "        \n",
    "    # Number of interfaces\n",
    "    interf = np.zeros(len(dyns))\n",
    "    for i, c in enumerate(clean_info):\n",
    "        ext_0 = c[0]==0\n",
    "        ext_L = c[L-1]==0\n",
    "        \n",
    "        interior = 0\n",
    "        for m in range(len(c)-1):\n",
    "            interior += c[m]!=c[m+1]\n",
    "            \n",
    "        interf[i] = ext_0+interior+ext_L\n",
    "    \n",
    "    return occup, interf\n",
    "\n",
    "#########################################################################\n",
    "\n",
    "def avg_occ(info_dyn):\n",
    "    '''Calculates running average of the occupation and interface\n",
    "    number.'''\n",
    "    \n",
    "    avg_info = np.zeros_like(info_dyn)\n",
    "    for i in range(len(info_dyn[0])):\n",
    "        avg_info[0][i] = np.mean(info_dyn[0][:i])\n",
    "        avg_info[1][i] = np.mean(info_dyn[1][:i])\n",
    "        \n",
    "    return avg_info"
   ]
  },
  {
   "cell_type": "markdown",
   "metadata": {},
   "source": [
    "Calculating for the three different cases."
   ]
  },
  {
   "cell_type": "code",
   "execution_count": null,
   "metadata": {},
   "outputs": [],
   "source": [
    "starJ_rt = 1.198\n",
    "init_spins = np.array([[-1,-1,-1,-1,-1]])\n",
    "steps = 300000\n",
    "\n",
    "# \"Filled\": epsilon < J/10\n",
    "eps_filled = 0.03\n",
    "dyn_filled = dynamics(eps_filled, J_rt, init_spins, steps)\n",
    "prob_filled = avg_prob(dyn_filled, eps_filled, J_rt) # 23 s 10,000\n",
    "info_filled = info_dyn(dyn_filled, eps_filled, J_rt)\n",
    "\n",
    "# \"Bistable\": epsilon = J/10\n",
    "eps_bist = J_rt/10\n",
    "dyn_bist = dynamics(eps_bist, J_rt, init_spins, steps)\n",
    "prob_bist = avg_prob(dyn_bist, eps_bist, J_rt) # 23 s 10,000\n",
    "info_bist = info_dyn(dyn_bist, eps_bist, J_rt)\n",
    "\n",
    "# \"Empty\": epsilon > J/10\n",
    "eps_empty = 0.45\n",
    "dyn_empty = dynamics(eps_empty, J_rt, init_spins, steps)\n",
    "prob_empty = avg_prob(dyn_empty, eps_empty, J_rt) # 23 s 10,000\n",
    "info_empty = info_dyn(dyn_empty, eps_empty, J_rt)"
   ]
  },
  {
   "cell_type": "markdown",
   "metadata": {},
   "source": [
    "Plotting the results. The code is the same for the three different states."
   ]
  },
  {
   "cell_type": "code",
   "execution_count": null,
   "metadata": {
    "scrolled": false
   },
   "outputs": [],
   "source": [
    "##################################\n",
    "# \"FILLED\": epsilon < J/10 \n",
    "##################################\n",
    "\n",
    "fig, (ax1, ax2, ax3) = plt.subplots(1, 3, figsize=(20,4));\n",
    "times = np.linspace(0,len(prob_filled)/10, 10)\n",
    "\n",
    "for t in times:\n",
    "    ax1.plot(macrostates, prob_filled[int(t)-1], label='{}'.format(int(t)));\n",
    "ax1.plot(macrostates, all_probs(eps_filled, J_rt), color='black',  linestyle='--', label='Part 1 data');\n",
    "ax1.set_title('P(N), N=5')\n",
    "ax1.legend();\n",
    "ax1.set_xlabel('N')\n",
    "ax1.set_ylabel('Average P(N)')\n",
    "\n",
    "# OCCUPATION NUMBER\n",
    "ax2.set_title('Occupation number, N=5')\n",
    "ax2.scatter(range(len(info_filled[0])), info_filled[0][:], alpha=0.02);\n",
    "ax2.set_xlabel('Number of steps')\n",
    "ax2.set_ylabel('Number')\n",
    "\n",
    "# NUMBER OF INTERFACES\n",
    "ax3.scatter(range(len(info_filled[1])), info_filled[1][:], alpha=0.02);\n",
    "ax3.set_ylim([-0.2,5])\n",
    "ax3.set_title('Number of interfaces, N=5')\n",
    "ax3.set_xlabel('Number of steps')\n",
    "ax3.set_ylabel('Number')\n",
    "\n",
    "fig.suptitle(r'$\\beta \\epsilon < 0.1 \\beta J$, \"Filled\"');\n",
    "\n",
    "###################################################################################################\n",
    "\n",
    "##################################\n",
    "# \"BISTABLE\": epsilon = J/10 \n",
    "##################################\n",
    "\n",
    "fig, (ax1, ax2, ax3) = plt.subplots(1, 3, figsize=(20,4));\n",
    "times = np.linspace(0,len(prob_bist)/1, 10)\n",
    "\n",
    "#ax1.plot([macrostates]*len(prob_bist), prob_bist[:], label='{}'.format(t), alpha='0.1');\n",
    "for t in times:\n",
    "    ax1.plot(macrostates, prob_bist[int(t)-1], label='{}'.format(int(t)));\n",
    "\n",
    "ax1.plot(macrostates, all_probs(eps_bist, J_rt), color='black',  linestyle= '--', label='Part 1 data');\n",
    "ax1.set_title('P(N), bistable')\n",
    "ax1.legend();\n",
    "ax1.set_xlabel('N')\n",
    "ax1.set_ylabel('Average P(N)')\n",
    "\n",
    "# OCCUPATION NUMBER\n",
    "ax2.set_title('Occupation number, bistable')\n",
    "ax2.scatter(range(len(info_bist[0]))[::], info_bist[0][::], alpha=0.02);\n",
    "ax2.set_xlabel('Number of steps')\n",
    "ax2.set_ylabel('Number')\n",
    "\n",
    "# NUMBER OF INTERFACES\n",
    "ax3.scatter(range(len(info_bist[1]))[::], info_bist[1][::], alpha=0.02);\n",
    "ax3.set_title('Number of interfaces, bistable')\n",
    "ax3.set_ylim([-0.2,5])\n",
    "ax3.set_xlabel('Number of steps')\n",
    "ax3.set_ylabel('Number')\n",
    "\n",
    "fig.suptitle(r'$\\beta \\epsilon = 0.1 \\beta J$, \"Bistable\"');\n",
    "\n",
    "###################################################################################################\n",
    "\n",
    "##################################\n",
    "# \"EMPTY\": epsilon > J/10 \n",
    "##################################\n",
    "fig, (ax1, ax2, ax3) = plt.subplots(1, 3, figsize=(20,4));\n",
    "times = np.linspace(0,len(prob_empty)/100, 10)\n",
    "\n",
    "for t in times:\n",
    "    ax1.plot(macrostates, prob_empty[int(t)-1], label='{}'.format(int(t)));\n",
    "ax1.plot(macrostates, all_probs(eps_empty, J_rt), color='black',  linestyle= '--', label='Part 1 data');\n",
    "ax1.set_title('P(N), N=0')\n",
    "ax1.legend();\n",
    "ax1.set_xlabel('N')\n",
    "ax1.set_ylabel('Average P(N)')\n",
    "\n",
    "# OCCUPATION NUMBER\n",
    "ax2.scatter(range(len(info_empty[0])), info_empty[0][:], alpha=0.02);\n",
    "ax2.set_title('Occupation number, N=0')\n",
    "ax2.set_xlabel('Number of steps')\n",
    "ax2.set_ylabel('Average number')\n",
    "\n",
    "# NUMBER OF INTERFACES\n",
    "ax3.scatter(range(len(info_empty[1])), info_empty[1][:], alpha=0.02);\n",
    "ax3.set_title('Number of interfaces, N=0')\n",
    "ax3.set_ylim([-0.2,5])\n",
    "ax3.set_xlabel('Number of steps')\n",
    "ax3.set_ylabel('Number')\n",
    "\n",
    "fig.suptitle(r'''$\\beta \\epsilon > 0.1 \\beta J$, \"Empty\"''');"
   ]
  },
  {
   "cell_type": "markdown",
   "metadata": {},
   "source": [
    "In the panel above I have plotted all of the data for the three possible parameter ratios: $\\beta \\epsilon < 0.1 \\beta J$ (top row), $\\beta \\epsilon = 0.1 \\beta J$ (middle row) and $\\beta \\epsilon > 0.1 \\beta J$ (bottom row). \n",
    "\n",
    "In the first column I have plotted the probability distribution at different number of steps (see legend). We can see that the different regimes converge to the final exact probability at different number of steps: first XXXXXX, then XXXX and finally XXXX. \n",
    "# FINISH\n",
    "\n",
    "\n",
    "In the middle column I have plotted the occupation number. The most intense values correspond to the number that most of the states in each step of the dynamics has. We can see that the most intense occupation number in the \"empty\" or  $\\beta \\epsilon > 0.1 \\beta J$ case is around 2, and that in contrast that number  is closer to 4 or 3 in the opposite \"filled\" case,  $\\beta \\epsilon > 0.1 \\beta J$. For the intermediate \"bistable\" case, the occupation seems pretty uniform across N=1-4. \n",
    "If we look at the number of possible interfaces in the third column, we can see that the most common number of interfaces for the 3 possible regimes is 2, and that 4 interfaces become increasingly important with decreasing  $\\beta \\epsilon$ vs. $0.1 \\beta J$. I am not sure why this is more relevant in the empty $\\beta \\epsilon > 0.1 \\beta J$ than in the  bistable $\\beta \\epsilon = 0.1 \\beta J$, as I would have expected it to be the opposite, more interfaces in the bistable case and fewer interfaces in the empty state. As was reasoned above, we can also verify that only even number of interfaces are possible.\n",
    "\n",
    "To further clarify these trends, I have plotted below the running averages of the occupation number and the number of interfaces below.\n",
    " "
   ]
  },
  {
   "cell_type": "code",
   "execution_count": null,
   "metadata": {},
   "outputs": [],
   "source": [
    "avg_empty = avg_occ(info_empty)\n",
    "avg_filled = avg_occ(info_filled)\n",
    "avg_bist = avg_occ(info_bist)\n",
    "\n",
    "# OCCUPATION NUMBER\n",
    "plt.plot(range(len(avg_filled[0]))[1:], avg_filled[0][1:], color='#3182bd', label=r'$\\beta \\epsilon < 0.1 \\beta J$, \"Filled\"');\n",
    "plt.plot(range(len(avg_bist[0]))[1:], avg_bist[0][1:], color='#e6550d', label=r'$\\beta \\epsilon = 0.1 \\beta J$, \"Bistable\"');\n",
    "plt.plot(range(len(avg_empty[0]))[1:], avg_empty[0][1:], color='#636363', label=r'$\\beta \\epsilon > 0.1 \\beta J$, \"Empty\"');\n",
    "\n",
    "plt.grid(axis='y')\n",
    "plt.legend();\n",
    "plt.title('Running average occupation number');\n",
    "plt.xlabel('Number of steps');\n",
    "plt.ylabel('Average value');\n",
    "plt.show()\n",
    "\n",
    "\n",
    "# NUMBER OF INTERFACES\n",
    "plt.plot(range(len(avg_filled[0]))[1:], avg_filled[1][1:], color='#9ecae1', label=r'$\\beta \\epsilon < 0.1 \\beta J$, \"Filled\"');\n",
    "plt.plot(range(len(avg_bist[0]))[1:], avg_bist[1][1:], color='#fdae6b', label=r'$\\beta \\epsilon = 0.1 \\beta J$, \"Bistable\"');\n",
    "plt.plot(range(len(avg_empty[0]))[1:], avg_empty[1][1:], color='#bdbdbd', label=r'$\\beta \\epsilon > 0.1 \\beta J$, \"Empty\"');\n",
    "\n",
    "plt.grid(axis='y')\n",
    "plt.legend();\n",
    "plt.title('Running average of the number of interfaces');\n",
    "plt.xlabel('Number of steps');\n",
    "plt.ylabel('Average value');"
   ]
  },
  {
   "cell_type": "markdown",
   "metadata": {},
   "source": [
    "In the plots above we see the same results as before, the occupation number and number of interfaces converge to the following values. We can also see that the occupation number clearly decreases as the ratio $\\frac{\\beta \\epsilon}{\\beta J}$ increases, and the number of interfaces follows the opposite trend. This makes sense, as when keeping $\\beta J$ constant, an increase in $\\beta \\epsilon$ makes the nanotube more hydrophobic and there will be a decrease in water tube occupancy. The surface tension, or $\\beta J$, remains constant, but since the occupancy decreases from 3 to closer to 2, there are more microstates with occupancy 2 and 4 interfaces that could be populated, compared to the the number of microstates with $N=3$ and 4 interfaces.\n",
    "\n",
    "| Case | Occupation number | Number of interfaces |\n",
    "| ----------- | ----------- | ----------- |\n",
    "| Filled, $\\beta \\epsilon < 0.1 \\beta J$ | 2.7 | 2.1|\n",
    "| Bistable, $\\beta \\epsilon = 0.1 \\beta J$ | 2.5 | 2.2 |\n",
    "| Empty, $\\beta \\epsilon > 0.1 \\beta J$ | 2.1 | 2.6 |"
   ]
  },
  {
   "cell_type": "markdown",
   "metadata": {},
   "source": [
    "Finally, in these plots below I have shown the first 100 steps of filling for the three possible regimes. In the three cases we can see that the predominant mechanism is that of filling first through the sides and then filling in the middle cells, as if the water from the bulk went inside the tube. There is also some spontaneous condensation in the middle cells, although that happens with less frequency."
   ]
  },
  {
   "cell_type": "code",
   "execution_count": null,
   "metadata": {
    "scrolled": false
   },
   "outputs": [],
   "source": [
    "plt.rcParams[\"figure.figsize\"] = (20,12)\n",
    "\n",
    "# \"FILLED\": epsilon < J/10 \n",
    "plt.imshow(m_i(dyn_filled)[:100], cmap='Blues');\n",
    "plt.title('Filled. First 100 steps. Dark blue: water');\n",
    "plt.show()\n",
    "\n",
    "\n",
    "## \"BISTABLE\": epsilon = J/10 \n",
    "plt.imshow(m_i(dyn_bist)[:100], cmap='Blues');\n",
    "plt.title('Bistable. First 100 steps. Dark blue: water');\n",
    "plt.show()\n",
    "#ax = plt.gca();\n",
    "#ax.set(xlim=(0, 4), ylim=(0, 100));\n",
    "\n",
    "# \"EMPTY\": epsilon > J/10 \n",
    "plt.imshow(m_i(dyn_empty)[:100], cmap='Blues');\n",
    "plt.title('Empty. First 100 steps. Dark blue: water');"
   ]
  },
  {
   "cell_type": "code",
   "execution_count": null,
   "metadata": {},
   "outputs": [],
   "source": [
    "(time.time()-start)/60"
   ]
  }
 ],
 "metadata": {
  "kernelspec": {
   "display_name": "Python 3",
   "language": "python",
   "name": "python3"
  },
  "language_info": {
   "codemirror_mode": {
    "name": "ipython",
    "version": 3
   },
   "file_extension": ".py",
   "mimetype": "text/x-python",
   "name": "python",
   "nbconvert_exporter": "python",
   "pygments_lexer": "ipython3",
   "version": "3.7.4"
  }
 },
 "nbformat": 4,
 "nbformat_minor": 2
}
